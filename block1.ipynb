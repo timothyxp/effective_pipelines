{
 "cells": [
  {
   "cell_type": "code",
   "execution_count": 1,
   "id": "50bcaa8d-9913-425d-85fa-c7e5f4251cb9",
   "metadata": {},
   "outputs": [],
   "source": [
    "# !pip3 install torch torchvision tqdm matplotlib numpy"
   ]
  },
  {
   "cell_type": "code",
   "execution_count": 2,
   "id": "33ebeded-25be-45a8-9cfb-f48ab1d42ae2",
   "metadata": {},
   "outputs": [],
   "source": [
    "%load_ext autoreload"
   ]
  },
  {
   "cell_type": "code",
   "execution_count": 3,
   "id": "63e4c74c-0324-4eba-af7d-fa0578ea6107",
   "metadata": {},
   "outputs": [],
   "source": [
    "%autoreload 2\n",
    "\n",
    "import torch\n",
    "from torch import nn\n",
    "from torchvision import transforms\n",
    "from tqdm.auto import tqdm\n",
    "\n",
    "from carvana import Carvana\n",
    "from unet import Unet\n",
    "import numpy as np\n",
    "from wandb_logger import WanDBWriter\n",
    "from trainer import train_block1"
   ]
  },
  {
   "cell_type": "code",
   "execution_count": 4,
   "id": "2e6ad0de-d94a-4665-91c8-8ead78a8eea7",
   "metadata": {},
   "outputs": [],
   "source": [
    "train_dataset = Carvana(\n",
    "    root=\".\",\n",
    "    transform=transforms.Compose([\n",
    "        transforms.Resize((256, 256)),\n",
    "        transforms.ToTensor()\n",
    "    ])\n",
    ")\n",
    "\n",
    "train_loader = torch.utils.data.DataLoader(\n",
    "    dataset=train_dataset,\n",
    "    batch_size=128,\n",
    "    shuffle=True,\n",
    "    pin_memory=True,\n",
    "    num_workers=14\n",
    ")"
   ]
  },
  {
   "cell_type": "code",
   "execution_count": 5,
   "id": "6be2afec-b44a-4373-8d3d-de10de0da089",
   "metadata": {},
   "outputs": [
    {
     "name": "stderr",
     "output_type": "stream",
     "text": [
      "\u001b[34m\u001b[1mwandb\u001b[0m: Currently logged in as: \u001b[33mtimothyxp\u001b[0m (use `wandb login --relogin` to force relogin)\n"
     ]
    },
    {
     "data": {
      "text/html": [
       "Tracking run with wandb version 0.12.11"
      ],
      "text/plain": [
       "<IPython.core.display.HTML object>"
      ]
     },
     "metadata": {},
     "output_type": "display_data"
    },
    {
     "data": {
      "text/html": [
       "Run data is saved locally in <code>/home/tasmirnov/efficient-dl-systems/week05_fast_pipelines/homework/wandb/run-20220308_185004-3jd9asb0</code>"
      ],
      "text/plain": [
       "<IPython.core.display.HTML object>"
      ]
     },
     "metadata": {},
     "output_type": "display_data"
    },
    {
     "data": {
      "text/html": [
       "Syncing run <strong><a href=\"https://wandb.ai/timothyxp/Fast%20Pipelines/runs/3jd9asb0\" target=\"_blank\">upbeat-wave-22</a></strong> to <a href=\"https://wandb.ai/timothyxp/Fast%20Pipelines\" target=\"_blank\">Weights & Biases</a> (<a href=\"https://wandb.me/run\" target=\"_blank\">docs</a>)<br/>"
      ],
      "text/plain": [
       "<IPython.core.display.HTML object>"
      ]
     },
     "metadata": {},
     "output_type": "display_data"
    }
   ],
   "source": [
    "from dataclasses import dataclass\n",
    "\n",
    "\n",
    "@dataclass\n",
    "class Config:\n",
    "    wandb_project: str = 'Fast Pipelines'\n",
    "    \n",
    "    use_amp = True\n",
    "    use_torch_scaler = False\n",
    "    use_empty_scaler = False\n",
    "    use_constant_scaler = False\n",
    "    use_dynamic_scaler = True\n",
    "\n",
    "    \n",
    "config = Config()\n",
    "logger = WanDBWriter(config)"
   ]
  },
  {
   "cell_type": "code",
   "execution_count": 6,
   "id": "982b42c1-9377-4ac4-b4eb-7019dfadd91c",
   "metadata": {},
   "outputs": [],
   "source": [
    "import torch, torch.nn as nn\n",
    "from utils import count_zero_grads\n",
    "\n",
    "\n",
    "class GradScalerEmpty:\n",
    "    def __init__(self):\n",
    "        self.scalar = 2. ** 16\n",
    "        \n",
    "    def scale(self, loss):\n",
    "        return loss\n",
    "    \n",
    "    def unscale_(self, optimizer):\n",
    "        pass\n",
    "    \n",
    "    def update(self):\n",
    "        pass\n",
    "    \n",
    "    def step(self, optimizer):\n",
    "        optimizer.step()\n",
    "        \n",
    "        \n",
    "class GradScalerCustom:\n",
    "    def __init__(self, init_scale=2. ** 16, growth_factor: float = 2.0, dynamic=False):\n",
    "        self.scale_rate = init_scale\n",
    "        self.dynamic = dynamic\n",
    "        self.growth_factor = growth_factor\n",
    "        self.optimizer = None\n",
    "        \n",
    "    def scale(self, loss):\n",
    "        return loss * self.scale_rate\n",
    "    \n",
    "    @torch.no_grad()\n",
    "    def unscale_(self, optimizer):\n",
    "        for param_group in optimizer.param_groups:\n",
    "            for param in param_group['params']:\n",
    "                param.grad = torch.where(\n",
    "                    torch.isinf(param.grad),\n",
    "                    torch.zeros_like(param.grad),\n",
    "                    param.grad / self.scale_rate\n",
    "                )\n",
    "\n",
    "    def update(self):\n",
    "        if not self.dynamic:\n",
    "            return\n",
    "        \n",
    "        if self.optimizer is not None:\n",
    "            if count_zero_grads(optimizer) > 0.001:\n",
    "                self.scale_rate *= self.growth_factor\n",
    "    \n",
    "    def step(self, optimizer):\n",
    "        optimizer.step()\n",
    "        self.optimizer = optimizer"
   ]
  },
  {
   "cell_type": "code",
   "execution_count": 7,
   "id": "47903a33-f9b3-48d9-bd4f-4a34c0510a61",
   "metadata": {},
   "outputs": [
    {
     "name": "stderr",
     "output_type": "stream",
     "text": [
      "Loss: 0.6098Accuracy: 0.9490Epoch acc: 91.3414: 100%|███████████████████████████████████████████████████████████████████████████████████████████████████████████████████████| 40/40 [00:21<00:00,  1.88it/s]\n",
      "Loss: 0.5957Accuracy: 0.9745Epoch acc: 96.4878: 100%|███████████████████████████████████████████████████████████████████████████████████████████████████████████████████████| 40/40 [00:18<00:00,  2.15it/s]\n",
      "Loss: 0.5904Accuracy: 0.9805Epoch acc: 97.9182: 100%|███████████████████████████████████████████████████████████████████████████████████████████████████████████████████████| 40/40 [00:18<00:00,  2.13it/s]\n",
      "Loss: 0.5865Accuracy: 0.9850Epoch acc: 98.3601: 100%|███████████████████████████████████████████████████████████████████████████████████████████████████████████████████████| 40/40 [00:18<00:00,  2.11it/s]\n",
      "Loss: 0.5839Accuracy: 0.9867Epoch acc: 98.5816: 100%|███████████████████████████████████████████████████████████████████████████████████████████████████████████████████████| 40/40 [00:18<00:00,  2.12it/s]\n"
     ]
    }
   ],
   "source": [
    "device = \"cuda:1\"\n",
    "model = Unet().to(device)\n",
    "criterion = nn.BCEWithLogitsLoss()\n",
    "optimizer = torch.optim.Adam(\n",
    "    model.parameters(),\n",
    "    lr=1e-4\n",
    ")\n",
    "if config.use_torch_scaler:\n",
    "    scaler = torch.cuda.amp.GradScaler()\n",
    "elif config.use_empty_scaler:\n",
    "    scaler = GradScalerEmpty()\n",
    "elif config.use_constant_scaler:\n",
    "    scaler = GradScalerCustom(dynamic=False)\n",
    "elif config.use_dynamic_scaler:\n",
    "    scaler = GradScalerCustom(init_scale=1., dynamic=True)\n",
    "\n",
    "num_epochs = 5\n",
    "for epoch in range(0, num_epochs):\n",
    "    train_block1(train_loader, model, criterion, optimizer, epoch,\n",
    "          num_epochs, device=device, scaler=scaler, config=config, wandb_logger=logger)"
   ]
  },
  {
   "cell_type": "code",
   "execution_count": 8,
   "id": "979b535f-48ce-4358-b7d9-8cf5e6c5c70b",
   "metadata": {},
   "outputs": [
    {
     "data": {
      "text/plain": [
       "torch.float32"
      ]
     },
     "execution_count": 8,
     "metadata": {},
     "output_type": "execute_result"
    }
   ],
   "source": [
    "optimizer.param_groups[0]['params'][0].grad.dtype"
   ]
  },
  {
   "cell_type": "code",
   "execution_count": null,
   "id": "840f2f6d-99ba-447c-8c80-58df5bdc9246",
   "metadata": {},
   "outputs": [],
   "source": []
  },
  {
   "cell_type": "code",
   "execution_count": null,
   "id": "53e5648b-c05a-47b1-b107-ec5848be81fd",
   "metadata": {},
   "outputs": [],
   "source": []
  }
 ],
 "metadata": {
  "kernelspec": {
   "display_name": "Python 3 (ipykernel)",
   "language": "python",
   "name": "python3"
  },
  "language_info": {
   "codemirror_mode": {
    "name": "ipython",
    "version": 3
   },
   "file_extension": ".py",
   "mimetype": "text/x-python",
   "name": "python",
   "nbconvert_exporter": "python",
   "pygments_lexer": "ipython3",
   "version": "3.8.10"
  }
 },
 "nbformat": 4,
 "nbformat_minor": 5
}
