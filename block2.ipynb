{
 "cells": [
  {
   "cell_type": "code",
   "execution_count": 1,
   "id": "50bcaa8d-9913-425d-85fa-c7e5f4251cb9",
   "metadata": {},
   "outputs": [],
   "source": [
    "# !pip3 install torch torchvision tqdm matplotlib numpy torchtext pandas"
   ]
  },
  {
   "cell_type": "code",
   "execution_count": 1,
   "id": "33ebeded-25be-45a8-9cfb-f48ab1d42ae2",
   "metadata": {},
   "outputs": [],
   "source": [
    "%load_ext autoreload"
   ]
  },
  {
   "cell_type": "code",
   "execution_count": 55,
   "id": "63e4c74c-0324-4eba-af7d-fa0578ea6107",
   "metadata": {},
   "outputs": [],
   "source": [
    "# code sourse: https://pytorch.org/tutorials/beginner/transformer_tutorial.html\n",
    "import math\n",
    "from typing import Tuple\n",
    "\n",
    "import torch\n",
    "from torch import nn, Tensor\n",
    "import torch.nn.functional as F\n",
    "from torch.nn import TransformerEncoder, TransformerEncoderLayer\n",
    "from torch.utils.data import dataset\n",
    "from torchtext.datasets import WikiText103\n",
    "from torchtext.data.utils import get_tokenizer\n",
    "from torchtext.vocab import build_vocab_from_iterator\n",
    "from tqdm.auto import trange\n",
    "\n",
    "import os\n",
    "import numpy as np\n",
    "from transformer import generate_square_subsequent_mask, TransformerModel\n",
    "from sampler import BatchSampler\n",
    "from collator import BatchCollator\n",
    "from dataset import TokenDataset"
   ]
  },
  {
   "cell_type": "code",
   "execution_count": 3,
   "id": "1021a4de-0dcc-41ea-ab06-417d062348d0",
   "metadata": {},
   "outputs": [],
   "source": [
    "if os.path.exists(\"train_data.pth\"):\n",
    "    train_data = torch.load(\"train_data.pth\")\n",
    "else:\n",
    "    def data_process(raw_text_iter: dataset.IterableDataset) -> Tensor:\n",
    "        \"\"\"Converts raw text into a flat Tensor.\"\"\"\n",
    "        data = [torch.tensor(vocab(tokenizer(item)), dtype=torch.long) for item in raw_text_iter]\n",
    "\n",
    "        return [tens for tens in data if tens.numel() > 0]\n",
    "\n",
    "    train_iter = WikiText103(split=\"train\")\n",
    "    tokenizer = get_tokenizer(\"basic_english\")\n",
    "    vocab = build_vocab_from_iterator(map(tokenizer, train_iter), specials=[\"<unk>\"])\n",
    "    vocab.set_default_index(vocab[\"<unk>\"])\n",
    "\n",
    "    train_iter, val_iter, test_iter = WikiText103()\n",
    "    train_data = data_process(train_iter)\n",
    "    \n",
    "    torch.save(train_data, \"train_data.pth\")"
   ]
  },
  {
   "cell_type": "code",
   "execution_count": 4,
   "id": "8132b2b9-9e28-4fa8-93ca-aa5dc23344b7",
   "metadata": {},
   "outputs": [
    {
     "data": {
      "text/plain": [
       "1165026"
      ]
     },
     "execution_count": 4,
     "metadata": {},
     "output_type": "execute_result"
    }
   ],
   "source": [
    "len(train_data)"
   ]
  },
  {
   "cell_type": "code",
   "execution_count": 6,
   "id": "bee49f85-bb3b-48c5-acac-9d80332d340b",
   "metadata": {},
   "outputs": [],
   "source": [
    "%autoreload 2\n",
    "\n",
    "from trainer import train_block2\n",
    "from wandb_logger import WanDBWriter\n",
    "\n",
    "from torch.utils.data import DataLoader"
   ]
  },
  {
   "cell_type": "code",
   "execution_count": 7,
   "id": "0726393e-da86-4612-b998-1201423ff503",
   "metadata": {},
   "outputs": [],
   "source": [
    "len_vocab = max(data.max() for data in train_data).item() + 1"
   ]
  },
  {
   "cell_type": "code",
   "execution_count": 52,
   "id": "36634b7e-b2ef-4864-8001-f3c7e68d8a1b",
   "metadata": {},
   "outputs": [],
   "source": [
    "from dataclasses import dataclass\n",
    "\n",
    "@dataclass\n",
    "class Config:\n",
    "    wandb_project: str = 'Fast Pipelines'\n",
    "    \n",
    "    device: str = 'cuda:2'\n",
    "    \n",
    "    batch_size = 16\n",
    "    ntokens = len_vocab  # size of vocabulary\n",
    "    emsize = 64  # embedding dimension\n",
    "    d_hid = 1024  # dimension of the feedforward network model in nn.TransformerEncoder\n",
    "    nlayers = 1  # number of nn.TransformerEncoderLayer in nn.TransformerEncoder\n",
    "    nhead = 8  # number of heads in nn.MultiheadAttention\n",
    "    dropout = 0.2  # dropout probability\n",
    "    \n",
    "    pad_max_len = None\n",
    "    use_collator = True\n",
    "    use_batch_sampler = True\n",
    "\n",
    "\n",
    "config = Config()"
   ]
  },
  {
   "cell_type": "code",
   "execution_count": 50,
   "id": "2c5fad0a-72e9-4431-b4df-ba29ea118ee3",
   "metadata": {},
   "outputs": [
    {
     "name": "stderr",
     "output_type": "stream",
     "text": [
      " 18%|█████████████████████████████▍                                                                                                                                   | 13290/72815 [06:19<28:21, 34.98it/s]\n"
     ]
    },
    {
     "ename": "KeyboardInterrupt",
     "evalue": "",
     "output_type": "error",
     "traceback": [
      "\u001b[0;31m---------------------------------------------------------------------------\u001b[0m",
      "\u001b[0;31mKeyboardInterrupt\u001b[0m                         Traceback (most recent call last)",
      "Input \u001b[0;32mIn [50]\u001b[0m, in \u001b[0;36m<cell line: 10>\u001b[0;34m()\u001b[0m\n\u001b[1;32m      3\u001b[0m sampler \u001b[38;5;241m=\u001b[39m BatchSampler(config\u001b[38;5;241m.\u001b[39mbatch_size, train_data, bin_size)\n\u001b[1;32m      4\u001b[0m train_loader \u001b[38;5;241m=\u001b[39m DataLoader(\n\u001b[1;32m      5\u001b[0m     dataset, num_workers\u001b[38;5;241m=\u001b[39m\u001b[38;5;241m8\u001b[39m, collate_fn\u001b[38;5;241m=\u001b[39mcollator, batch_size\u001b[38;5;241m=\u001b[39mconfig\u001b[38;5;241m.\u001b[39mbatch_size,\n\u001b[1;32m      6\u001b[0m     batch_sampler\u001b[38;5;241m=\u001b[39msampler \u001b[38;5;28;01mif\u001b[39;00m config\u001b[38;5;241m.\u001b[39muse_batch_sampler \u001b[38;5;28;01melse\u001b[39;00m \u001b[38;5;28;01mNone\u001b[39;00m,\n\u001b[1;32m      7\u001b[0m     shuffle\u001b[38;5;241m=\u001b[39m\u001b[38;5;28;01mTrue\u001b[39;00m\n\u001b[1;32m      8\u001b[0m )\n\u001b[0;32m---> 10\u001b[0m \u001b[43mtrain_block2\u001b[49m\u001b[43m(\u001b[49m\u001b[43mtrain_loader\u001b[49m\u001b[43m,\u001b[49m\u001b[43m \u001b[49m\u001b[43mmodel\u001b[49m\u001b[43m,\u001b[49m\u001b[43m \u001b[49m\u001b[43mconfig\u001b[49m\u001b[38;5;241;43m.\u001b[39;49m\u001b[43mdevice\u001b[49m\u001b[43m,\u001b[49m\u001b[43m \u001b[49m\u001b[43mconfig\u001b[49m\u001b[43m,\u001b[49m\u001b[43m \u001b[49m\u001b[43mlogger\u001b[49m\u001b[43m)\u001b[49m\n",
      "File \u001b[0;32m~/efficient-dl-systems/week05_fast_pipelines/homework/trainer.py:72\u001b[0m, in \u001b[0;36mtrain_block2\u001b[0;34m(train_loader, model, device, config, wandb_logger)\u001b[0m\n\u001b[1;32m     69\u001b[0m data \u001b[38;5;241m=\u001b[39m data\u001b[38;5;241m.\u001b[39mto(device, non_blocking\u001b[38;5;241m=\u001b[39m\u001b[38;5;28;01mTrue\u001b[39;00m)\n\u001b[1;32m     71\u001b[0m src_mask \u001b[38;5;241m=\u001b[39m torch\u001b[38;5;241m.\u001b[39mzeros((data\u001b[38;5;241m.\u001b[39mshape[\u001b[38;5;241m0\u001b[39m], data\u001b[38;5;241m.\u001b[39mshape[\u001b[38;5;241m0\u001b[39m]), device\u001b[38;5;241m=\u001b[39mdevice)\n\u001b[0;32m---> 72\u001b[0m out \u001b[38;5;241m=\u001b[39m \u001b[43mmodel\u001b[49m\u001b[43m(\u001b[49m\u001b[43mdata\u001b[49m\u001b[43m,\u001b[49m\u001b[43m \u001b[49m\u001b[43msrc_mask\u001b[49m\u001b[43m)\u001b[49m\u001b[38;5;241;43m.\u001b[39;49m\u001b[43mmean\u001b[49m\u001b[43m(\u001b[49m\u001b[43m)\u001b[49m\u001b[38;5;241;43m.\u001b[39;49m\u001b[43mitem\u001b[49m\u001b[43m(\u001b[49m\u001b[43m)\u001b[49m\n\u001b[1;32m     74\u001b[0m \u001b[38;5;28;01mif\u001b[39;00m wandb_logger \u001b[38;5;129;01mis\u001b[39;00m \u001b[38;5;129;01mnot\u001b[39;00m \u001b[38;5;28;01mNone\u001b[39;00m:\n\u001b[1;32m     75\u001b[0m     wandb_logger\u001b[38;5;241m.\u001b[39madd_scalar(\u001b[38;5;124m\"\u001b[39m\u001b[38;5;124mout\u001b[39m\u001b[38;5;124m\"\u001b[39m, out)\n",
      "\u001b[0;31mKeyboardInterrupt\u001b[0m: "
     ]
    }
   ],
   "source": [
    "logger = WanDBWriter(config)\n",
    "dataset = TokenDataset(train_data, pad_max_len=config.pad_max_len)\n",
    "collator = BatchCollator() if config.use_collator else None\n",
    "sampler = BatchSampler(config.batch_size, train_data, bin_size)\n",
    "train_loader = DataLoader(\n",
    "    dataset, num_workers=8, collate_fn=collator, batch_size=config.batch_size,\n",
    "    batch_sampler=sampler if config.use_batch_sampler else None,\n",
    "    shuffle=True\n",
    ")\n",
    "\n",
    "train_block2(train_loader, model, config.device, config, logger)"
   ]
  },
  {
   "cell_type": "code",
   "execution_count": null,
   "id": "24560092-c194-4adf-bff7-e5f9af7d3437",
   "metadata": {},
   "outputs": [],
   "source": []
  },
  {
   "cell_type": "code",
   "execution_count": 53,
   "id": "a9f52293-11b8-415e-abc8-42aaeb6ca59c",
   "metadata": {},
   "outputs": [],
   "source": []
  },
  {
   "cell_type": "code",
   "execution_count": null,
   "id": "9e929506-b807-47d4-9b4c-debac753cc63",
   "metadata": {},
   "outputs": [
    {
     "name": "stderr",
     "output_type": "stream",
     "text": [
      "\u001b[34m\u001b[1mwandb\u001b[0m: \u001b[33mWARNING\u001b[0m Calling wandb.login() after wandb.init() has no effect.\n"
     ]
    },
    {
     "data": {
      "text/html": [
       "Finishing last run (ID:ot50mg1j) before initializing another..."
      ],
      "text/plain": [
       "<IPython.core.display.HTML object>"
      ]
     },
     "metadata": {},
     "output_type": "display_data"
    },
    {
     "name": "stdout",
     "output_type": "stream",
     "text": [
      "\n"
     ]
    },
    {
     "data": {
      "text/html": [
       "Waiting for W&B process to finish... <strong style=\"color:green\">(success).</strong>"
      ],
      "text/plain": [
       "<IPython.core.display.HTML object>"
      ]
     },
     "metadata": {},
     "output_type": "display_data"
    },
    {
     "data": {
      "application/vnd.jupyter.widget-view+json": {
       "model_id": "",
       "version_major": 2,
       "version_minor": 0
      },
      "text/plain": [
       "VBox(children=(Label(value='0.001 MB of 0.001 MB uploaded (0.000 MB deduped)\\r'), FloatProgress(value=1.0, max…"
      ]
     },
     "metadata": {},
     "output_type": "display_data"
    },
    {
     "data": {
      "text/html": [
       "<style>\n",
       "    table.wandb td:nth-child(1) { padding: 0 10px; text-align: right }\n",
       "    .wandb-row { display: flex; flex-direction: row; flex-wrap: wrap; width: 100% }\n",
       "    .wandb-col { display: flex; flex-direction: column; flex-basis: 100%; flex: 1; padding: 10px; }\n",
       "    </style>\n",
       "<div class=\"wandb-row\"><div class=\"wandb-col\"><h3>Run history:</h3><br/><table class=\"wandb\"><tr><td>train/out</td><td>▄▂▅▅▄▇▄▆▅▃▆▄▄▆▆▇█▂▃▄▅▁▇▄▃▃▃▄▆▆▅▄▄▅▁▄▃▄▅▅</td></tr><tr><td>train/steps_per_sec</td><td>▂▃▂▄▆▆▇▇▄▁▅▅▄▃▁▂▆▆▃▆▆▆▄▃▅▄▅▄▄▇▅▇▄█▇▄▄▆▄▅</td></tr></table><br/></div><div class=\"wandb-col\"><h3>Run summary:</h3><br/><table class=\"wandb\"><tr><td>train/out</td><td>-0.00037</td></tr><tr><td>train/steps_per_sec</td><td>46.80114</td></tr></table><br/></div></div>"
      ],
      "text/plain": [
       "<IPython.core.display.HTML object>"
      ]
     },
     "metadata": {},
     "output_type": "display_data"
    },
    {
     "data": {
      "text/html": [
       "Synced <strong style=\"color:#cdcd00\">glad-snow-41</strong>: <a href=\"https://wandb.ai/timothyxp/Fast%20Pipelines/runs/ot50mg1j\" target=\"_blank\">https://wandb.ai/timothyxp/Fast%20Pipelines/runs/ot50mg1j</a><br/>Synced 5 W&B file(s), 0 media file(s), 0 artifact file(s) and 0 other file(s)"
      ],
      "text/plain": [
       "<IPython.core.display.HTML object>"
      ]
     },
     "metadata": {},
     "output_type": "display_data"
    },
    {
     "data": {
      "text/html": [
       "Find logs at: <code>./wandb/run-20220310_150328-ot50mg1j/logs</code>"
      ],
      "text/plain": [
       "<IPython.core.display.HTML object>"
      ]
     },
     "metadata": {},
     "output_type": "display_data"
    },
    {
     "data": {
      "text/html": [
       "Successfully finished last run (ID:ot50mg1j). Initializing new run:<br/>"
      ],
      "text/plain": [
       "<IPython.core.display.HTML object>"
      ]
     },
     "metadata": {},
     "output_type": "display_data"
    },
    {
     "data": {
      "text/html": [
       "Tracking run with wandb version 0.12.11"
      ],
      "text/plain": [
       "<IPython.core.display.HTML object>"
      ]
     },
     "metadata": {},
     "output_type": "display_data"
    },
    {
     "data": {
      "text/html": [
       "Run data is saved locally in <code>/home/tasmirnov/efficient-dl-systems/week05_fast_pipelines/homework/wandb/run-20220310_151235-25zr4yby</code>"
      ],
      "text/plain": [
       "<IPython.core.display.HTML object>"
      ]
     },
     "metadata": {},
     "output_type": "display_data"
    },
    {
     "data": {
      "text/html": [
       "Syncing run <strong><a href=\"https://wandb.ai/timothyxp/Fast%20Pipelines/runs/25zr4yby\" target=\"_blank\">ancient-bee-42</a></strong> to <a href=\"https://wandb.ai/timothyxp/Fast%20Pipelines\" target=\"_blank\">Weights & Biases</a> (<a href=\"https://wandb.me/run\" target=\"_blank\">docs</a>)<br/>"
      ],
      "text/plain": [
       "<IPython.core.display.HTML object>"
      ]
     },
     "metadata": {},
     "output_type": "display_data"
    },
    {
     "name": "stderr",
     "output_type": "stream",
     "text": [
      "100%|█████████████████████████████████████████████████████████████████████████████████████████████████████████████████████████████████████████████████████████████████| 14000/14000 [13:08<00:00, 17.77it/s]\n",
      "\u001b[34m\u001b[1mwandb\u001b[0m: \u001b[33mWARNING\u001b[0m Calling wandb.login() after wandb.init() has no effect.\n"
     ]
    },
    {
     "data": {
      "text/html": [
       "Finishing last run (ID:25zr4yby) before initializing another..."
      ],
      "text/plain": [
       "<IPython.core.display.HTML object>"
      ]
     },
     "metadata": {},
     "output_type": "display_data"
    },
    {
     "name": "stdout",
     "output_type": "stream",
     "text": [
      "\n"
     ]
    },
    {
     "data": {
      "text/html": [
       "Waiting for W&B process to finish... <strong style=\"color:green\">(success).</strong>"
      ],
      "text/plain": [
       "<IPython.core.display.HTML object>"
      ]
     },
     "metadata": {},
     "output_type": "display_data"
    },
    {
     "data": {
      "application/vnd.jupyter.widget-view+json": {
       "model_id": "",
       "version_major": 2,
       "version_minor": 0
      },
      "text/plain": [
       "VBox(children=(Label(value='0.001 MB of 0.001 MB uploaded (0.000 MB deduped)\\r'), FloatProgress(value=1.0, max…"
      ]
     },
     "metadata": {},
     "output_type": "display_data"
    },
    {
     "data": {
      "text/html": [
       "<style>\n",
       "    table.wandb td:nth-child(1) { padding: 0 10px; text-align: right }\n",
       "    .wandb-row { display: flex; flex-direction: row; flex-wrap: wrap; width: 100% }\n",
       "    .wandb-col { display: flex; flex-direction: column; flex-basis: 100%; flex: 1; padding: 10px; }\n",
       "    </style>\n",
       "<div class=\"wandb-row\"><div class=\"wandb-col\"><h3>Run history:</h3><br/><table class=\"wandb\"><tr><td>train/out</td><td>▆▃▄▇▅██▃▅▅▅█▄▅▇▆▆▆▄▃▄█▆▁▅▆▅▄▅▄▃▅▃▄▆█▆▄▂▇</td></tr><tr><td>train/steps_per_sec</td><td>▅▅▄▆▃█▇▄▆▇▆▅▆▃▆▆▇▆▁▄▄▅▄▇▂▂▃▃▃▄▃▄▅▅█▅▅▃▂▅</td></tr></table><br/></div><div class=\"wandb-col\"><h3>Run summary:</h3><br/><table class=\"wandb\"><tr><td>train/out</td><td>-0.00034</td></tr><tr><td>train/steps_per_sec</td><td>45.30832</td></tr></table><br/></div></div>"
      ],
      "text/plain": [
       "<IPython.core.display.HTML object>"
      ]
     },
     "metadata": {},
     "output_type": "display_data"
    },
    {
     "data": {
      "text/html": [
       "Synced <strong style=\"color:#cdcd00\">ancient-bee-42</strong>: <a href=\"https://wandb.ai/timothyxp/Fast%20Pipelines/runs/25zr4yby\" target=\"_blank\">https://wandb.ai/timothyxp/Fast%20Pipelines/runs/25zr4yby</a><br/>Synced 5 W&B file(s), 0 media file(s), 0 artifact file(s) and 0 other file(s)"
      ],
      "text/plain": [
       "<IPython.core.display.HTML object>"
      ]
     },
     "metadata": {},
     "output_type": "display_data"
    },
    {
     "data": {
      "text/html": [
       "Find logs at: <code>./wandb/run-20220310_151235-25zr4yby/logs</code>"
      ],
      "text/plain": [
       "<IPython.core.display.HTML object>"
      ]
     },
     "metadata": {},
     "output_type": "display_data"
    },
    {
     "data": {
      "text/html": [
       "Successfully finished last run (ID:25zr4yby). Initializing new run:<br/>"
      ],
      "text/plain": [
       "<IPython.core.display.HTML object>"
      ]
     },
     "metadata": {},
     "output_type": "display_data"
    },
    {
     "data": {
      "text/html": [
       "Tracking run with wandb version 0.12.11"
      ],
      "text/plain": [
       "<IPython.core.display.HTML object>"
      ]
     },
     "metadata": {},
     "output_type": "display_data"
    },
    {
     "data": {
      "text/html": [
       "Run data is saved locally in <code>/home/tasmirnov/efficient-dl-systems/week05_fast_pipelines/homework/wandb/run-20220310_152552-2agh87sf</code>"
      ],
      "text/plain": [
       "<IPython.core.display.HTML object>"
      ]
     },
     "metadata": {},
     "output_type": "display_data"
    },
    {
     "data": {
      "text/html": [
       "Syncing run <strong><a href=\"https://wandb.ai/timothyxp/Fast%20Pipelines/runs/2agh87sf\" target=\"_blank\">fragrant-forest-43</a></strong> to <a href=\"https://wandb.ai/timothyxp/Fast%20Pipelines\" target=\"_blank\">Weights & Biases</a> (<a href=\"https://wandb.me/run\" target=\"_blank\">docs</a>)<br/>"
      ],
      "text/plain": [
       "<IPython.core.display.HTML object>"
      ]
     },
     "metadata": {},
     "output_type": "display_data"
    },
    {
     "name": "stderr",
     "output_type": "stream",
     "text": [
      "100%|█████████████████████████████████████████████████████████████████████████████████████████████████████████████████████████████████████████████████████████████████| 14000/14000 [04:59<00:00, 46.74it/s]\n",
      "\u001b[34m\u001b[1mwandb\u001b[0m: \u001b[33mWARNING\u001b[0m Calling wandb.login() after wandb.init() has no effect.\n"
     ]
    },
    {
     "data": {
      "text/html": [
       "Finishing last run (ID:2agh87sf) before initializing another..."
      ],
      "text/plain": [
       "<IPython.core.display.HTML object>"
      ]
     },
     "metadata": {},
     "output_type": "display_data"
    },
    {
     "name": "stdout",
     "output_type": "stream",
     "text": [
      "\n"
     ]
    },
    {
     "data": {
      "text/html": [
       "Waiting for W&B process to finish... <strong style=\"color:green\">(success).</strong>"
      ],
      "text/plain": [
       "<IPython.core.display.HTML object>"
      ]
     },
     "metadata": {},
     "output_type": "display_data"
    },
    {
     "data": {
      "application/vnd.jupyter.widget-view+json": {
       "model_id": "",
       "version_major": 2,
       "version_minor": 0
      },
      "text/plain": [
       "VBox(children=(Label(value='0.001 MB of 0.001 MB uploaded (0.000 MB deduped)\\r'), FloatProgress(value=1.0, max…"
      ]
     },
     "metadata": {},
     "output_type": "display_data"
    },
    {
     "data": {
      "text/html": [
       "<style>\n",
       "    table.wandb td:nth-child(1) { padding: 0 10px; text-align: right }\n",
       "    .wandb-row { display: flex; flex-direction: row; flex-wrap: wrap; width: 100% }\n",
       "    .wandb-col { display: flex; flex-direction: column; flex-basis: 100%; flex: 1; padding: 10px; }\n",
       "    </style>\n",
       "<div class=\"wandb-row\"><div class=\"wandb-col\"><h3>Run history:</h3><br/><table class=\"wandb\"><tr><td>train/out</td><td>▇▇▇▇▆▂▆▇▇█▄▇▇▆▃▄▇▇▇█▅▇▇▆▇▂▇▂▇▇▇▇▇▇▇▇▇▁▆▆</td></tr><tr><td>train/steps_per_sec</td><td>█▄▂▁█▇▃▃▅█▃▆▄▄▆▃▄▄█▄▄▇▇▃▃█▄▄▃▇▁█▆▂▁▅▅▃▃█</td></tr></table><br/></div><div class=\"wandb-col\"><h3>Run summary:</h3><br/><table class=\"wandb\"><tr><td>train/out</td><td>-0.00035</td></tr><tr><td>train/steps_per_sec</td><td>24.25124</td></tr></table><br/></div></div>"
      ],
      "text/plain": [
       "<IPython.core.display.HTML object>"
      ]
     },
     "metadata": {},
     "output_type": "display_data"
    },
    {
     "data": {
      "text/html": [
       "Synced <strong style=\"color:#cdcd00\">fragrant-forest-43</strong>: <a href=\"https://wandb.ai/timothyxp/Fast%20Pipelines/runs/2agh87sf\" target=\"_blank\">https://wandb.ai/timothyxp/Fast%20Pipelines/runs/2agh87sf</a><br/>Synced 5 W&B file(s), 0 media file(s), 0 artifact file(s) and 0 other file(s)"
      ],
      "text/plain": [
       "<IPython.core.display.HTML object>"
      ]
     },
     "metadata": {},
     "output_type": "display_data"
    },
    {
     "data": {
      "text/html": [
       "Find logs at: <code>./wandb/run-20220310_152552-2agh87sf/logs</code>"
      ],
      "text/plain": [
       "<IPython.core.display.HTML object>"
      ]
     },
     "metadata": {},
     "output_type": "display_data"
    },
    {
     "data": {
      "text/html": [
       "Successfully finished last run (ID:2agh87sf). Initializing new run:<br/>"
      ],
      "text/plain": [
       "<IPython.core.display.HTML object>"
      ]
     },
     "metadata": {},
     "output_type": "display_data"
    },
    {
     "data": {
      "text/html": [
       "Tracking run with wandb version 0.12.11"
      ],
      "text/plain": [
       "<IPython.core.display.HTML object>"
      ]
     },
     "metadata": {},
     "output_type": "display_data"
    },
    {
     "data": {
      "text/html": [
       "Run data is saved locally in <code>/home/tasmirnov/efficient-dl-systems/week05_fast_pipelines/homework/wandb/run-20220310_153101-2s1ako96</code>"
      ],
      "text/plain": [
       "<IPython.core.display.HTML object>"
      ]
     },
     "metadata": {},
     "output_type": "display_data"
    },
    {
     "data": {
      "text/html": [
       "Syncing run <strong><a href=\"https://wandb.ai/timothyxp/Fast%20Pipelines/runs/2s1ako96\" target=\"_blank\">different-wood-44</a></strong> to <a href=\"https://wandb.ai/timothyxp/Fast%20Pipelines\" target=\"_blank\">Weights & Biases</a> (<a href=\"https://wandb.me/run\" target=\"_blank\">docs</a>)<br/>"
      ],
      "text/plain": [
       "<IPython.core.display.HTML object>"
      ]
     },
     "metadata": {},
     "output_type": "display_data"
    },
    {
     "name": "stderr",
     "output_type": "stream",
     "text": [
      " 59%|██████████████████████████████████████████████████████████████████████████████████████████████▉                                                                   | 8208/14000 [02:18<01:48, 53.19it/s]"
     ]
    }
   ],
   "source": [
    "for bin_size in [1,5,10,25,50]:\n",
    "    logger = WanDBWriter(config)\n",
    "    \n",
    "    dataset = TokenDataset(train_data, pad_max_len=config.pad_max_len)\n",
    "    collator = BatchCollator() if config.use_collator else None\n",
    "    sampler = BatchSampler(config.batch_size, train_data, bin_size, length=14_000)\n",
    "    train_loader = DataLoader(\n",
    "        dataset, num_workers=8, collate_fn=collator,\n",
    "        batch_sampler=sampler if config.use_batch_sampler else None\n",
    "    )\n",
    "\n",
    "    train_block2(train_loader, model, config.device, config, logger)"
   ]
  },
  {
   "cell_type": "code",
   "execution_count": null,
   "id": "840f2f6d-99ba-447c-8c80-58df5bdc9246",
   "metadata": {},
   "outputs": [],
   "source": []
  },
  {
   "cell_type": "code",
   "execution_count": 56,
   "id": "6639d39b-3e55-4d4c-8f03-9f983fead9af",
   "metadata": {},
   "outputs": [],
   "source": [
    "import wandb"
   ]
  },
  {
   "cell_type": "code",
   "execution_count": 58,
   "id": "a854ab40-10e9-4d04-a377-31a879ff58d4",
   "metadata": {},
   "outputs": [],
   "source": [
    "api = wandb.Api()"
   ]
  },
  {
   "cell_type": "code",
   "execution_count": 90,
   "id": "641f9a97-6019-48aa-9434-28108964661f",
   "metadata": {},
   "outputs": [],
   "source": [
    "runs = [\n",
    "    ['3b6caab6', 'sampler_bin=50'],\n",
    "    ['16ybk2dm', 'sampler_bin=25'],\n",
    "    ['2s1ako96', 'sampler_bin=10'],\n",
    "    ['2agh87sf', 'sampler_bin=5'],\n",
    "    ['25zr4yby', 'sampler_bin=1'],\n",
    "    ['ot50mg1j', 'Pad_batch'],\n",
    "    ['af03ehev', 'pad_all'],\n",
    "]"
   ]
  },
  {
   "cell_type": "code",
   "execution_count": 91,
   "id": "bbc99fec-283a-4f7d-a6c8-22060f35abfc",
   "metadata": {},
   "outputs": [],
   "source": [
    "metrics = {}\n",
    "for run_id, name in runs:\n",
    "    hist = api.run(f'timothyxp/Fast Pipelines/{run_id}').scan_history()\n",
    "    seconds = []\n",
    "    \n",
    "    for row in hist:\n",
    "        if row['_step'] > 5:# для разогрева\n",
    "            seconds.append(1/row['train/steps_per_sec'])\n",
    "        \n",
    "    seconds = seconds[:-5]\n",
    "    \n",
    "    metrics[name] = {\n",
    "        'min': np.min(seconds),\n",
    "        'max': np.max(seconds),\n",
    "        'mean': np.mean(seconds),\n",
    "        'median': np.median(seconds)\n",
    "    }"
   ]
  },
  {
   "cell_type": "code",
   "execution_count": 92,
   "id": "1a41c536-7331-459f-b17e-d33a08fd27f0",
   "metadata": {},
   "outputs": [
    {
     "data": {
      "text/html": [
       "<div>\n",
       "<style scoped>\n",
       "    .dataframe tbody tr th:only-of-type {\n",
       "        vertical-align: middle;\n",
       "    }\n",
       "\n",
       "    .dataframe tbody tr th {\n",
       "        vertical-align: top;\n",
       "    }\n",
       "\n",
       "    .dataframe thead th {\n",
       "        text-align: right;\n",
       "    }\n",
       "</style>\n",
       "<table border=\"1\" class=\"dataframe\">\n",
       "  <thead>\n",
       "    <tr style=\"text-align: right;\">\n",
       "      <th></th>\n",
       "      <th>sampler_bin=50</th>\n",
       "      <th>sampler_bin=25</th>\n",
       "      <th>sampler_bin=10</th>\n",
       "      <th>sampler_bin=5</th>\n",
       "      <th>sampler_bin=1</th>\n",
       "      <th>Pad_batch</th>\n",
       "      <th>pad_all</th>\n",
       "    </tr>\n",
       "  </thead>\n",
       "  <tbody>\n",
       "    <tr>\n",
       "      <th>min</th>\n",
       "      <td>0.003760</td>\n",
       "      <td>0.004084</td>\n",
       "      <td>0.004733</td>\n",
       "      <td>0.004189</td>\n",
       "      <td>0.019741</td>\n",
       "      <td>0.012810</td>\n",
       "      <td>0.063920</td>\n",
       "    </tr>\n",
       "    <tr>\n",
       "      <th>max</th>\n",
       "      <td>0.604217</td>\n",
       "      <td>0.127287</td>\n",
       "      <td>0.116748</td>\n",
       "      <td>0.122820</td>\n",
       "      <td>0.980530</td>\n",
       "      <td>0.753979</td>\n",
       "      <td>0.073555</td>\n",
       "    </tr>\n",
       "    <tr>\n",
       "      <th>mean</th>\n",
       "      <td>0.013319</td>\n",
       "      <td>0.014076</td>\n",
       "      <td>0.016715</td>\n",
       "      <td>0.021045</td>\n",
       "      <td>0.055883</td>\n",
       "      <td>0.028264</td>\n",
       "      <td>0.066269</td>\n",
       "    </tr>\n",
       "    <tr>\n",
       "      <th>median</th>\n",
       "      <td>0.011800</td>\n",
       "      <td>0.012410</td>\n",
       "      <td>0.014950</td>\n",
       "      <td>0.017912</td>\n",
       "      <td>0.054914</td>\n",
       "      <td>0.027258</td>\n",
       "      <td>0.066071</td>\n",
       "    </tr>\n",
       "  </tbody>\n",
       "</table>\n",
       "</div>"
      ],
      "text/plain": [
       "        sampler_bin=50  sampler_bin=25  sampler_bin=10  sampler_bin=5  \\\n",
       "min           0.003760        0.004084        0.004733       0.004189   \n",
       "max           0.604217        0.127287        0.116748       0.122820   \n",
       "mean          0.013319        0.014076        0.016715       0.021045   \n",
       "median        0.011800        0.012410        0.014950       0.017912   \n",
       "\n",
       "        sampler_bin=1  Pad_batch   pad_all  \n",
       "min          0.019741   0.012810  0.063920  \n",
       "max          0.980530   0.753979  0.073555  \n",
       "mean         0.055883   0.028264  0.066269  \n",
       "median       0.054914   0.027258  0.066071  "
      ]
     },
     "execution_count": 92,
     "metadata": {},
     "output_type": "execute_result"
    }
   ],
   "source": [
    "pd.DataFrame(metrics)"
   ]
  },
  {
   "cell_type": "code",
   "execution_count": null,
   "id": "ca3df936-d0df-4699-afa0-d46c4475534f",
   "metadata": {},
   "outputs": [],
   "source": []
  },
  {
   "cell_type": "code",
   "execution_count": null,
   "id": "53e5648b-c05a-47b1-b107-ec5848be81fd",
   "metadata": {},
   "outputs": [],
   "source": []
  }
 ],
 "metadata": {
  "kernelspec": {
   "display_name": "Python 3 (ipykernel)",
   "language": "python",
   "name": "python3"
  },
  "language_info": {
   "codemirror_mode": {
    "name": "ipython",
    "version": 3
   },
   "file_extension": ".py",
   "mimetype": "text/x-python",
   "name": "python",
   "nbconvert_exporter": "python",
   "pygments_lexer": "ipython3",
   "version": "3.8.10"
  }
 },
 "nbformat": 4,
 "nbformat_minor": 5
}
